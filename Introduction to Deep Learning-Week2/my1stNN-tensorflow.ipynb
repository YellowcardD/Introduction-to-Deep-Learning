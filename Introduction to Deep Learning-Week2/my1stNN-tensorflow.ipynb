{
 "cells": [
  {
   "cell_type": "code",
   "execution_count": 1,
   "metadata": {},
   "outputs": [
    {
     "name": "stderr",
     "output_type": "stream",
     "text": [
      "Using TensorFlow backend.\n"
     ]
    }
   ],
   "source": [
    "from preprocessed_mnist import load_dataset\n",
    "# load data from keras\n",
    "X_orig_train, y_orig_train, X_orig_val, y_orig_val, X_orig_test, y_orig_test = load_dataset()"
   ]
  },
  {
   "cell_type": "code",
   "execution_count": 2,
   "metadata": {
    "collapsed": true
   },
   "outputs": [],
   "source": [
    "import numpy as np\n",
    "import tensorflow as tf\n",
    "def preprocess():\n",
    "    \n",
    "    \"\"\"\n",
    "    flatten pixels to vector, transform y to one-hot-encoding form\n",
    "    \"\"\"\n",
    "    \n",
    "    X_train = X_orig_train.reshape(X_orig_train.shape[0], -1).T \n",
    "    X_val = X_orig_val.reshape(X_orig_val.shape[0], -1).T \n",
    "    X_test = X_orig_test.reshape(X_orig_test.shape[0], -1).T \n",
    "    y_train = np.eye(10)[y_orig_train.reshape(-1)].T\n",
    "    y_val = np.eye(10)[y_orig_val.reshape(-1)].T\n",
    "    y_test = np.eye(10)[y_orig_test.reshape(-1)].T\n",
    "    \n",
    "    return X_train, y_train, X_val, y_val, X_test, y_test"
   ]
  },
  {
   "cell_type": "code",
   "execution_count": 3,
   "metadata": {},
   "outputs": [
    {
     "name": "stdout",
     "output_type": "stream",
     "text": [
      "(784, 50000) (10, 50000)\n"
     ]
    }
   ],
   "source": [
    "X_train, y_train, X_val, y_val, X_test, y_test = preprocess()\n",
    "print(X_train.shape, y_train.shape)"
   ]
  },
  {
   "cell_type": "code",
   "execution_count": 4,
   "metadata": {},
   "outputs": [],
   "source": [
    "# random seed, so that the result will be consistent\n",
    "seed = 10\n",
    "# one hidden layer , and the number of units is 300\n",
    "hidden_units = 300\n",
    "output_units = 10\n",
    "# create placeholder for input\n",
    "X = tf.placeholder('float32', shape=(784, None))\n",
    "y = tf.placeholder('float32', shape=(10, None))\n",
    "# create parameters and forward propagation\n",
    "W1 = tf.get_variable('W1', shape=[hidden_units, X_train.shape[0]], initializer=tf.contrib.layers.xavier_initializer(seed=seed))\n",
    "b1 = tf.get_variable('b1', shape=[hidden_units, 1], initializer=tf.zeros_initializer())\n",
    "Z1 = tf.matmul(W1, X) + b1\n",
    "A1 = tf.nn.relu(Z1)\n",
    "W2 = tf.get_variable('W2', shape=[output_units, hidden_units], initializer=tf.contrib.layers.xavier_initializer(seed=seed))\n",
    "b2 = tf.get_variable('b2', shape=[output_units, 1], initializer=tf.zeros_initializer())\n",
    "Z2 = tf.matmul(W2, A1) + b2"
   ]
  },
  {
   "cell_type": "code",
   "execution_count": 5,
   "metadata": {
    "collapsed": true
   },
   "outputs": [],
   "source": [
    "# regularization parameter lambda\n",
    "lambd = 0.0001\n",
    "# loss function\n",
    "loss = tf.reduce_mean(tf.nn.softmax_cross_entropy_with_logits(labels=tf.transpose(y), logits=tf.transpose(Z2)))\n",
    "loss = loss + tf.contrib.layers.l2_regularizer(lambd)(W1) + tf.contrib.layers.l2_regularizer(lambd)(W2)\n",
    "# using learning rate decay\n",
    "global_step = tf.Variable(0)\n",
    "learning_rate = tf.train.exponential_decay(0.01, global_step, decay_steps=X_train.shape[1] // 32, decay_rate=0.9, staircase=True)\n",
    "# optimizer\n",
    "optimizer = tf.train.AdamOptimizer(learning_rate).minimize(loss, global_step=global_step)"
   ]
  },
  {
   "cell_type": "code",
   "execution_count": 6,
   "metadata": {},
   "outputs": [
    {
     "data": {
      "image/png": "[encoded data removed]",
      "text/plain": [
       "<matplotlib.figure.Figure at 0x7fe7d97c6b00>"
      ]
     },
     "metadata": {},
     "output_type": "display_data"
    },
    {
     "name": "stdout",
     "output_type": "stream",
     "text": [
      "train accuracy: 99.801999%\n",
      "test accuracy: 98.019999%\n",
      "time needed: 5.227042mins\n"
     ]
    }
   ],
   "source": [
    "import math\n",
    "import matplotlib.pyplot as plt\n",
    "import time\n",
    "\n",
    "def random_mini_batches(X, Y, mini_batch_size = 32, seed = 0):\n",
    "    \n",
    "    \"\"\"\n",
    "    return minibatches for mini-batch gradient descent\n",
    "    \"\"\"\n",
    "    m = X.shape[1]\n",
    "    mini_batches = []\n",
    "    np.random.seed(seed)\n",
    "    \n",
    "    permutation = list(np.random.permutation(m))\n",
    "    shuffled_X = X[:, permutation]\n",
    "    shuffled_Y = Y[:, permutation]\n",
    "    \n",
    "    num_complete_minibatches = math.floor(m / mini_batch_size)\n",
    "    for k in range(num_complete_minibatches):\n",
    "        mini_batch_X = shuffled_X[:, k * mini_batch_size : k * mini_batch_size + mini_batch_size]\n",
    "        mini_batch_Y = shuffled_Y[:, k * mini_batch_size : k * mini_batch_size + mini_batch_size]\n",
    "        mini_batch = (mini_batch_X, mini_batch_Y)\n",
    "        mini_batches.append(mini_batch)\n",
    "    \n",
    "    if m % mini_batch_size != 0:\n",
    "        mini_batch_X = shuffled_X[:, num_complete_minibatches * mini_batch_size : m]\n",
    "        mini_batch_Y = shuffled_Y[:, num_complete_minibatches * mini_batch_size : m]\n",
    "        mini_batch = (mini_batch_X, mini_batch_Y)\n",
    "        mini_batches.append(mini_batch)\n",
    "    \n",
    "    return mini_batches\n",
    "\n",
    "\n",
    "start = time.time()\n",
    "init = tf.global_variables_initializer()\n",
    "num_epochs = 25\n",
    "mini_batch_size = 32\n",
    "m = X_train.shape[1]\n",
    "costs_train = []\n",
    "costs_test = []\n",
    "\n",
    "with tf.Session() as sess:\n",
    "    \n",
    "    sess.run(init)\n",
    "    for epoch in range(num_epochs):\n",
    "        \n",
    "        # sum over train loss of each iteration\n",
    "        minibatch_cost_train = 0\n",
    "        # compute test loss for each epoch\n",
    "        cost_test = 0\n",
    "        num_minibatches = int(m / mini_batch_size)\n",
    "        seed = seed + 1\n",
    "        minibatches = random_mini_batches(X_train, y_train, mini_batch_size, seed)\n",
    "        for minibatch in minibatches:\n",
    "            mini_batch_X, mini_batch_Y = minibatch\n",
    "            _, temp_cost = sess.run([optimizer, loss], feed_dict = {X: mini_batch_X, y: mini_batch_Y})\n",
    "            minibatch_cost_train = minibatch_cost_train + temp_cost / num_minibatches\n",
    "        \n",
    "        cost_test = sess.run(loss, feed_dict={X: X_test, y: y_test})\n",
    "        costs_train.append(minibatch_cost_train)\n",
    "        costs_test.append(cost_test)\n",
    "    \n",
    "    # plot train loss and test loss\n",
    "    plt.subplot(121)\n",
    "    plt.title(\"train loss\")\n",
    "    plt.xlabel(\"number of epochs\")\n",
    "    plt.ylabel(\"loss\")\n",
    "    plt.plot(np.squeeze(costs_train))\n",
    "    plt.subplot(122)\n",
    "    plt.title(\"test loss\")\n",
    "    plt.xlabel(\"number of epochs\")\n",
    "    plt.ylabel(\"loss\")\n",
    "    plt.plot(np.squeeze(costs_test))\n",
    "    plt.show()\n",
    "    \n",
    "    # compute train accuracy and test accuracy\n",
    "    predict_op = tf.argmax(Z2, 0)\n",
    "    correct_prediction = tf.equal(predict_op, tf.argmax(y, 0))\n",
    "    accuracy = tf.reduce_mean(tf.cast(correct_prediction, 'float'))\n",
    "    train_accuracy = accuracy.eval({X: X_train, y: y_train})\n",
    "    test_accuracy = accuracy.eval({X: X_test, y:y_test})\n",
    "    print(\"train accuracy: %f%%\" % (train_accuracy*100))\n",
    "    print(\"test accuracy: %f%%\" % (test_accuracy*100))\n",
    "    \n",
    "end = time.time()\n",
    "print(\"time needed: %fmins\" %((end-start) / 60.))"
   ]
  },
  {
   "cell_type": "code",
   "execution_count": null,
   "metadata": {
    "collapsed": true
   },
   "outputs": [],
   "source": [
    "    "
   ]
  },
  {
   "cell_type": "code",
   "execution_count": null,
   "metadata": {
    "collapsed": true
   },
   "outputs": [],
   "source": []
  }
 ],
 "metadata": {
  "kernelspec": {
   "display_name": "Python 3",
   "language": "python",
   "name": "python3"
  },
  "language_info": {
   "codemirror_mode": {
    "name": "ipython",
    "version": 3
   },
   "file_extension": ".py",
   "mimetype": "text/x-python",
   "name": "python",
   "nbconvert_exporter": "python",
   "pygments_lexer": "ipython3",
   "version": "3.6.0"
  }
 },
 "nbformat": 4,
 "nbformat_minor": 2
}
